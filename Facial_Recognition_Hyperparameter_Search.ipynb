{
  "cells": [
    {
      "cell_type": "markdown",
      "metadata": {
        "id": "view-in-github",
        "colab_type": "text"
      },
      "source": [
        "<a href=\"https://colab.research.google.com/github/CodeArtificial/Facial-Recognition-AlexNet-ResNet-ViT/blob/main/Facial_Recognition_Hyperparameter_Search.ipynb\" target=\"_parent\"><img src=\"https://colab.research.google.com/assets/colab-badge.svg\" alt=\"Open In Colab\"/></a>"
      ]
    },
    {
      "cell_type": "code",
      "execution_count": null,
      "metadata": {
        "id": "1occAjzwt-G4"
      },
      "outputs": [],
      "source": [
        "import time\n",
        "import torch\n",
        "import torch.nn as nn\n",
        "import torchvision\n",
        "import numpy as np\n",
        "import torch.nn.functional as F\n",
        "from torch.utils.data import Dataset, DataLoader, random_split, Subset\n",
        "from torchvision import datasets\n",
        "from torchvision.datasets import ImageFolder\n",
        "import torchvision.transforms as tt\n",
        "from torchvision.utils import make_grid\n",
        "import matplotlib.pyplot as plt\n",
        "from matplotlib.image import imread\n",
        "import os\n",
        "import random\n",
        "from tqdm import tqdm\n",
        "from PIL import Image"
      ]
    },
    {
      "cell_type": "code",
      "execution_count": null,
      "metadata": {
        "id": "3wzxSaVGuFP8"
      },
      "outputs": [],
      "source": [
        "img_row, img_col = 48, 48\n",
        "classes = 7"
      ]
    },
    {
      "cell_type": "code",
      "execution_count": null,
      "metadata": {
        "id": "d6NSKDzduKND"
      },
      "outputs": [],
      "source": [
        "class_names = {'0': 'Angry', \n",
        "            '1': 'Disgust', \n",
        "            '2': 'Fear', \n",
        "            '3':'Happy', \n",
        "            '4': 'Sad', \n",
        "            '5': 'Surprise', \n",
        "            '6': 'Neutral',\n",
        "            0: 'Angry', \n",
        "            1: 'Disgust', \n",
        "            2: 'Fear', \n",
        "            3:'Happy', \n",
        "            4: 'Sad', \n",
        "            5: 'Surprise', \n",
        "            6: 'Neutral'}"
      ]
    },
    {
      "cell_type": "code",
      "execution_count": null,
      "metadata": {
        "colab": {
          "base_uri": "https://localhost:8080/"
        },
        "id": "XO1NiiZxuOm2",
        "outputId": "b66af54d-228d-43a4-cc5d-19fb47da8506"
      },
      "outputs": [
        {
          "output_type": "stream",
          "name": "stdout",
          "text": [
            "Mounted at /content/drive\n"
          ]
        }
      ],
      "source": [
        "from google.colab import drive\n",
        "drive.mount('/content/drive')"
      ]
    },
    {
      "cell_type": "code",
      "execution_count": null,
      "metadata": {
        "colab": {
          "base_uri": "https://localhost:8080/"
        },
        "id": "9WS774RWuWCy",
        "outputId": "28e8c41b-4bf3-48df-87ee-b99883d98c89"
      },
      "outputs": [
        {
          "output_type": "stream",
          "name": "stdout",
          "text": [
            "Done\n"
          ]
        }
      ],
      "source": [
        "from zipfile import ZipFile\n",
        "file_name = '/content/drive/MyDrive/Spring_2022/CS389/final/archive.zip'\n",
        "\n",
        "with ZipFile(file_name, 'r') as zip:\n",
        "  zip.extractall('data/')\n",
        "  print('Done')"
      ]
    },
    {
      "cell_type": "code",
      "execution_count": null,
      "metadata": {
        "id": "6Tk9bFKZvPB5"
      },
      "outputs": [],
      "source": [
        "train_dir = 'data/train/'\n",
        "test_dir = 'data/test/'"
      ]
    },
    {
      "cell_type": "code",
      "execution_count": null,
      "metadata": {
        "id": "OWFenqBJviQO"
      },
      "outputs": [],
      "source": [
        "def load_dataset(batch_size):\n",
        "    to_tensor_transform = torchvision.transforms.Compose([tt.Grayscale(num_output_channels=1),\n",
        "                                     tt.ToTensor()])\n",
        "\n",
        "    train_dataset = ImageFolder(root=train_dir, transform=to_tensor_transform)\n",
        "    train_dataset_loader = DataLoader(train_dataset, batch_size=batch_size, shuffle=True)\n",
        "    test_dataset = ImageFolder(root=test_dir, transform=to_tensor_transform)\n",
        "    test_dataset_loader = DataLoader(test_dataset, batch_size=batch_size, shuffle=True)\n",
        "    \n",
        "    return train_dataset, train_dataset_loader, test_dataset, test_dataset_loader"
      ]
    },
    {
      "cell_type": "code",
      "execution_count": null,
      "metadata": {
        "id": "7Z3-haNwvsAj"
      },
      "outputs": [],
      "source": [
        "def plot_image_and_label(image, label):\n",
        "    \n",
        "    '''\n",
        "    Takes in an image and shows it using matplotlib \n",
        "    this is used to visualize the data and also the outputs of our network\n",
        "    '''\n",
        "\n",
        "    image = image.reshape(1, 48,48)\n",
        "\n",
        "    plt.imshow(image[0])\n",
        "\n",
        "    if type(label) is not int:\n",
        "        _,predicted = torch.max(label,1)\n",
        "        plt.title(\"Best label = \" + class_names[str(predicted.item())] + \", with Score: \" + str(round(label[0][predicted].item() * 100,2)))\n",
        "    else:\n",
        "        plt.title(\"Label = \" + class_names[str(label)])\n",
        "    plt.show()\n",
        "    return"
      ]
    },
    {
      "cell_type": "code",
      "execution_count": null,
      "metadata": {
        "colab": {
          "base_uri": "https://localhost:8080/",
          "height": 298
        },
        "id": "--sAV9lHvm8u",
        "outputId": "84e80d01-05b3-4f96-a20e-bc997f333058"
      },
      "outputs": [
        {
          "output_type": "stream",
          "name": "stdout",
          "text": [
            "torch.Size([1, 48, 48])\n"
          ]
        },
        {
          "output_type": "display_data",
          "data": {
            "text/plain": [
              "<Figure size 432x288 with 1 Axes>"
            ],
            "image/png": "[encoded data removed]"
          },
          "metadata": {
            "needs_background": "light"
          }
        }
      ],
      "source": [
        "train_dataset, train_dataset_loader, test_dataset, test_dataset_loader = load_dataset(batch_size=32)\n",
        "ex_image, ex_label = train_dataset[random.randint(10000,20000)]\n",
        "print(ex_image.shape)\n",
        "plot_image_and_label(ex_image, ex_label)"
      ]
    },
    {
      "cell_type": "code",
      "execution_count": null,
      "metadata": {
        "id": "0Vuk8NMvwXTe"
      },
      "outputs": [],
      "source": [
        "class FERNet(nn.Module):\n",
        "    \"\"\"\n",
        "    This will be the CNN model that will classify facial expressions\n",
        "    \"\"\"\n",
        "    def __init__(self, input_size, classes=7):\n",
        "        super().__init__()\n",
        "        #Initialize the CNN network\n",
        "        self.conv1 = nn.Conv2d(1, 32, kernel_size=(3,3), padding=0, stride=1)\n",
        "        self.conv2 = nn.Conv2d(32, 64, kernel_size=(3,3), padding=0, stride=1)\n",
        "        self.conv3 = nn.Conv2d(64, 256, kernel_size=(3,3), padding=0, stride=1)\n",
        "        self.relu = nn.ReLU()\n",
        "        self.batchNorm1 = nn.BatchNorm2d(64)\n",
        "        self.batchNorm2 = nn.BatchNorm2d(256)\n",
        "        self.dropout1 = nn.Dropout(0.25)\n",
        "        self.dropout2 = nn.Dropout(0.5)\n",
        "        self.maxpool = nn.MaxPool2d(kernel_size=1, stride=(1,1))\n",
        "        self.flatten = nn.Flatten()\n",
        "        self.lin1 = nn.Linear(196*48*48, 64)\n",
        "        self.lin2 = nn.Linear(64, classes)\n",
        "        self.softmax = nn.Softmax(dim=1)\n",
        "\n",
        "\n",
        "    def forward(self, x):\n",
        "\n",
        "        x = x.view(-1, 1, 48, 48).float() \n",
        "        out = self.conv1(x)\n",
        "        out = self.relu(out)\n",
        "        out = self.conv2(out)\n",
        "        out = self.relu(out)\n",
        "        out = self.batchNorm1(out)\n",
        "        out = self.maxpool(out)\n",
        "        out = self.dropout1(out)\n",
        "\n",
        "        out = self.conv3(out)\n",
        "        out = self.batchNorm2(out)\n",
        "        out = self.maxpool(out)\n",
        "        out = self.dropout1(out)\n",
        "\n",
        "        out = self.flatten(out)\n",
        "        out = self.lin1(out)\n",
        "        out = self.relu(out)\n",
        "        out = self.dropout2(out)\n",
        "\n",
        "        out = self.lin2(out)\n",
        "        out = self.softmax(out)\n",
        "\n",
        "        return out"
      ]
    },
    {
      "cell_type": "code",
      "execution_count": null,
      "metadata": {
        "id": "ffeemKSewZjN"
      },
      "outputs": [],
      "source": [
        "# test_model = FERNet(48*48, 7)\n",
        "# ex_image, ex_label = train_dataset[random.randint(10000,20000)]\n",
        "# test_output = test_model(ex_image)\n",
        "# plot_image_and_label(ex_image.reshape(48,48), test_output)"
      ]
    },
    {
      "cell_type": "code",
      "execution_count": null,
      "metadata": {
        "id": "Z8G_wrIdy6ph"
      },
      "outputs": [],
      "source": [
        "# model = FERNet(48*48, 7)\n",
        "\n",
        "# loss_function = nn.CrossEntropyLoss(weight=None, size_average=None, ignore_index=-100, reduce=None, reduction='mean');                    \n",
        "# optimizer = torch.optim.SGD(model.parameters(), lr=0.0001);\n",
        "\n",
        "# print(\"BEFORE GRADIENT STEP:\")\n",
        "# ex_pred = model(ex_image.flatten())\n",
        "# print(\"prediction:\",ex_pred)\n",
        "# mod_ex_label = torch.Tensor([ex_label]).long()\n",
        "# print(\"label:\",mod_ex_label)\n",
        "\n",
        "# optimizer.zero_grad() # Sets the gradient to 0 so that gradients don't stack together\n",
        "\n",
        "# ex_loss1 = loss_function(ex_pred, mod_ex_label)\n",
        "# print(\"loss\",ex_loss1.item())\n",
        "\n",
        "# ex_loss1.backward() # This gets the gradient of the loss function w.r.t all of your model's params\n",
        "\n",
        "# print()\n",
        "# print(\"AFTER GRADIENT STEP:\")\n",
        "# optimizer.step() # This takes the step to train\n",
        "\n",
        "# ex_pred = model(ex_image.flatten())\n",
        "# print(\"prediction:\",ex_pred)\n",
        "# print(\"label:\",mod_ex_label)\n",
        "\n",
        "# ex_loss2 = loss_function(ex_pred, mod_ex_label)\n",
        "# print(\"loss\",ex_loss2.item())\n",
        "\n",
        "# print()\n",
        "# print(\"Difference in loss:\", (ex_loss1 - ex_loss2).item())\n",
        "# print(\"This should be some positive number to say we reduced loss\")"
      ]
    },
    {
      "cell_type": "code",
      "execution_count": null,
      "metadata": {
        "id": "WaLyogHWy-6K"
      },
      "outputs": [],
      "source": [
        "\n",
        "def saveCheckpoint(epoch, model, optimizer, loss):\n",
        "  CNN_FERNET_MODEL_STATE = {\n",
        "    'epoch': epoch,\n",
        "    'model_state_dict': model.state_dict(),\n",
        "    'optmizer_state_dict': optimizer.state_dict(),\n",
        "    'loss': loss.item(),\n",
        "  }\n",
        "  torch.save(CNN_FERNET_MODEL_STATE, '/content/drive/MyDrive/Spring_2022/CS389/final/cnn_fernet_model.pt')\n",
        "  return"
      ]
    },
    {
      "cell_type": "code",
      "execution_count": null,
      "metadata": {
        "id": "I-yb_nWKF01I"
      },
      "outputs": [],
      "source": [
        "# saveCheckpoint(1, model, optimizer, ex_loss2)"
      ]
    },
    {
      "cell_type": "code",
      "execution_count": null,
      "metadata": {
        "id": "4-UHW4QvzQSF"
      },
      "outputs": [],
      "source": [
        "def cnn_training(model, loss_function, optimizer, train_data, n_epochs, c_epoch, update_interval):\n",
        "    \n",
        "    losses = []\n",
        "    loss = 0\n",
        "\n",
        "    for n in range(n_epochs - c_epoch):\n",
        "        mLoss = []\n",
        "        minLoss = 1000\n",
        "        for i, (image, label) in enumerate(tqdm(train_data)):\n",
        "\n",
        "            image = image.float().view(-1,1,48,48)\n",
        "            ##############################################################\n",
        "\n",
        "            prediction = model(image)\n",
        "            optimizer.zero_grad() # Sets the gradient to 0 so that gradients don't stack together\n",
        "            loss = loss_function(prediction, label.long())\n",
        "            loss.backward() # This gets the gradient of the loss function w.r.t all of your model's params\n",
        "            optimizer.step() # This takes the step to train\n",
        "\n",
        "            ##############################################################\n",
        "            if (loss.item() < minLoss):\n",
        "              minLoss = loss.item()\n",
        "              CNN_FERNET_MODEL_STATE = {\n",
        "                'epoch': n + c_epoch + 1,\n",
        "                'model_state_dict': model.state_dict(),\n",
        "                'optmizer_state_dict': optimizer.state_dict(),\n",
        "                'loss': loss.item(),\n",
        "              }\n",
        "              torch.save(CNN_FERNET_MODEL_STATE, '/content/drive/MyDrive/Spring_2022/CS389/final/cnn_fernet_model_min.pt')\n",
        "\n",
        "            mLoss.append(loss.item())\n",
        "            if i % update_interval == 0:\n",
        "                losses.append(round(loss.item(), 2)) # This will append your losses for plotting -- please use \"loss\" as the name for your loss\n",
        "\n",
        "        saveCheckpoint(n + c_epoch + 1, model, optimizer, loss)\n",
        "        print(\"epoch: \", n + c_epoch + 1)\n",
        "        print(\"loss: \", np.mean(mLoss))\n",
        "        \n",
        "    return model, losses"
      ]
    },
    {
      "cell_type": "code",
      "execution_count": null,
      "metadata": {
        "id": "xcQJADUnnZWK"
      },
      "outputs": [],
      "source": [
        "# \"\"\"\n",
        "# INCLUDE LOSSES ARRAY TO THE CHECKPOINT \n",
        "# \"\"\"\n",
        "# import math\n",
        "# def saveCheckpointHyper(model, optimizer):\n",
        "#   CNN_FERNET_MODEL_HYPER_STATE = {\n",
        "#     'epoch': 1,\n",
        "#     'learning_rate': 0,\n",
        "#     'update_interval': 50,\n",
        "#     'batch_size': 32,\n",
        "#     'model_state_dict': model.state_dict(),\n",
        "#     'optmizer_state_dict': optimizer.state_dict(),\n",
        "#     'loss': math.inf,\n",
        "#   }\n",
        "#   torch.save(CNN_FERNET_MODEL_HYPER_STATE, '/content/drive/MyDrive/Spring_2022/CS389/final/cnn_fernet_model_hyper_searched.pt')\n",
        "#   return"
      ]
    },
    {
      "cell_type": "code",
      "execution_count": null,
      "metadata": {
        "id": "QAEHEy4ZpVCf"
      },
      "outputs": [],
      "source": [
        "# saveCheckpointHyper(model, optimizer)"
      ]
    },
    {
      "cell_type": "code",
      "execution_count": null,
      "metadata": {
        "id": "ugTpkkpe0x1W"
      },
      "outputs": [],
      "source": [
        "import math\n",
        "def hyperparam_random_search():\n",
        "  learning_rate_out = None\n",
        "  batch_size_out = None\n",
        "  update_interval_out = None\n",
        "  n_epochs_out = None\n",
        "\n",
        "\n",
        "  loss_function = nn.CrossEntropyLoss()\n",
        "\n",
        "  # Load saved checkpoint\n",
        "  model = FERNet (48 * 48, 7)\n",
        "  model_saved = torch.load('/content/drive/MyDrive/Spring_2022/CS389/final/cnn_fernet_model_hyper_searched.pt')\n",
        "  print(\"Model's Checkpoint Loaded\")\n",
        "  model.load_state_dict(model_saved['model_state_dict'])\n",
        "\n",
        "  if math.isinf(np.mean(model_saved['loss'])):\n",
        "    curr_loss = math.inf\n",
        "  else:\n",
        "    curr_loss = np.mean(model_saved['loss'])\n",
        "  curr_model = None\n",
        "\n",
        "  print(\"Model's Checkpoint epoch: \", model_saved['epoch'])\n",
        "  print(\"Model's Checkpoint learning rate: \", model_saved['learning_rate'])\n",
        "  print(\"Model's Checkpoint update interval: \", model_saved['update_interval'])\n",
        "  print(\"Model's Checkpoint batch size: \", model_saved['batch_size'])\n",
        "  print(\"Model's Checkpoint loss: \", curr_loss)\n",
        "\n",
        "  # random search of for hyperparmeters\n",
        "  for learning_rate in [1e-10, 1e-8, 1e-6, 1e-4]:\n",
        "    # for batch_size in range(model_saved['batch_size'], 100, 10):\n",
        "      # for update_interval in range(model_saved['update_interval'], 100, 10):\n",
        "        for n_epochs in range(1, 11):\n",
        "\n",
        "          # Trained our model\n",
        "          optimizer = torch.optim.SGD(model.parameters(), lr=learning_rate)\n",
        "          optimizer.load_state_dict(model_saved['optmizer_state_dict'])\n",
        "          test_model, test_loss = cnn_training(model, loss_function, optimizer, train_dataset_loader, n_epochs=n_epochs, c_epoch=model_saved['epoch'], update_interval=50)\n",
        "\n",
        "          t_loss = np.mean(test_loss)\n",
        "\n",
        "          #If loss is lower than the previous\n",
        "          if t_loss < curr_loss:\n",
        "\n",
        "            # Mark the new model and loss\n",
        "            curr_loss = t_loss\n",
        "            curr_model = test_model\n",
        "\n",
        "            # Mark the new hyperparameters\n",
        "            learning_rate_out = learning_rate\n",
        "            # batch_size_out = batch_size\n",
        "            # update_interval_out = update_interval\n",
        "            n_epochs_out = n_epochs\n",
        "\n",
        "            # Saved the new model with new hyperparameters\n",
        "            CNN_FERNET_MODEL_STATE_HYPER = {\n",
        "                'epoch': n_epochs_out,\n",
        "                'learning_rate': learning_rate_out,\n",
        "                'update_interval': 50,\n",
        "                'batch_size': 32,\n",
        "                'model_state_dict': model.state_dict(),\n",
        "                'optmizer_state_dict': optimizer.state_dict(),\n",
        "                'loss': test_loss,\n",
        "              }\n",
        "            torch.save(CNN_FERNET_MODEL_STATE_HYPER, '/content/drive/MyDrive/Spring_2022/CS389/final/cnn_fernet_model_hyper_searched.pt')\n",
        "\n",
        "            print(\"New epoch: \", n_epochs_out)\n",
        "            print(\"New learning_rate: \", learning_rate_out)\n",
        "            print(\"New loss: \", t_loss)\n",
        "\n",
        "\n",
        "            # Display graphs  \n",
        "            plt.plot(np.arange(len(test_loss)) * 32 * 50, test_loss)\n",
        "            plt.title(\"training curve\")\n",
        "            plt.xlabel(\"number of images trained on\")\n",
        "            plt.ylabel(\"loss\") \n",
        "            plt.show()\n",
        "\n",
        "  return curr_loss, curr_model\n"
      ]
    },
    {
      "cell_type": "markdown",
      "metadata": {
        "id": "-6_X5bHclvUK"
      },
      "source": [
        "# New Section"
      ]
    },
    {
      "cell_type": "code",
      "execution_count": null,
      "metadata": {
        "colab": {
          "base_uri": "https://localhost:8080/",
          "height": 1000
        },
        "id": "RbbaO8GBE_NS",
        "outputId": "c26ee742-8e26-42fa-ceae-6beee8d78757"
      },
      "outputs": [
        {
          "output_type": "stream",
          "name": "stderr",
          "text": [
            "/usr/local/lib/python3.7/dist-packages/numpy/core/fromnumeric.py:3441: RuntimeWarning: Mean of empty slice.\n",
            "  out=out, **kwargs)\n",
            "/usr/local/lib/python3.7/dist-packages/numpy/core/_methods.py:189: RuntimeWarning: invalid value encountered in double_scalars\n",
            "  ret = ret.dtype.type(ret / rcount)\n"
          ]
        },
        {
          "output_type": "stream",
          "name": "stdout",
          "text": [
            "Model's Checkpoint Loaded\n",
            "Model's Checkpoint epoch:  9\n",
            "Model's Checkpoint learning rate:  0.0001\n",
            "Model's Checkpoint update interval:  50\n",
            "Model's Checkpoint batch size:  32\n",
            "Model's Checkpoint loss:  1.6522222222222223\n"
          ]
        },
        {
          "output_type": "stream",
          "name": "stderr",
          "text": [
            "100%|██████████| 898/898 [28:41<00:00,  1.92s/it]\n"
          ]
        },
        {
          "output_type": "stream",
          "name": "stdout",
          "text": [
            "epoch:  10\n",
            "loss:  1.6651597208859925\n"
          ]
        },
        {
          "output_type": "stream",
          "name": "stderr",
          "text": [
            "100%|██████████| 898/898 [28:45<00:00,  1.92s/it]\n"
          ]
        },
        {
          "output_type": "stream",
          "name": "stdout",
          "text": [
            "epoch:  10\n",
            "loss:  1.6636797437954587\n"
          ]
        },
        {
          "output_type": "stream",
          "name": "stderr",
          "text": [
            "100%|██████████| 898/898 [29:04<00:00,  1.94s/it]\n"
          ]
        },
        {
          "output_type": "stream",
          "name": "stdout",
          "text": [
            "epoch:  10\n",
            "loss:  1.6608100526847924\n",
            "New epoch:  10\n",
            "New learning_rate:  1e-06\n",
            "New loss:  1.6183333333333332\n"
          ]
        },
        {
          "output_type": "display_data",
          "data": {
            "text/plain": [
              "<Figure size 432x288 with 1 Axes>"
            ],
            "image/png": "[encoded data removed]"
          },
          "metadata": {
            "needs_background": "light"
          }
        },
        {
          "output_type": "stream",
          "name": "stderr",
          "text": [
            "/usr/local/lib/python3.7/dist-packages/numpy/core/fromnumeric.py:3441: RuntimeWarning: Mean of empty slice.\n",
            "  out=out, **kwargs)\n",
            "/usr/local/lib/python3.7/dist-packages/numpy/core/_methods.py:189: RuntimeWarning: invalid value encountered in double_scalars\n",
            "  ret = ret.dtype.type(ret / rcount)\n",
            "100%|██████████| 898/898 [29:07<00:00,  1.95s/it]\n"
          ]
        },
        {
          "output_type": "stream",
          "name": "stdout",
          "text": [
            "epoch:  10\n",
            "loss:  1.6600460718097558\n"
          ]
        },
        {
          "output_type": "execute_result",
          "data": {
            "text/plain": [
              "(1.6183333333333332, FERNet(\n",
              "   (conv1): Conv2d(1, 32, kernel_size=(3, 3), stride=(1, 1))\n",
              "   (conv2): Conv2d(32, 64, kernel_size=(3, 3), stride=(1, 1))\n",
              "   (conv3): Conv2d(64, 256, kernel_size=(3, 3), stride=(1, 1))\n",
              "   (relu): ReLU()\n",
              "   (batchNorm1): BatchNorm2d(64, eps=1e-05, momentum=0.1, affine=True, track_running_stats=True)\n",
              "   (batchNorm2): BatchNorm2d(256, eps=1e-05, momentum=0.1, affine=True, track_running_stats=True)\n",
              "   (dropout1): Dropout(p=0.25, inplace=False)\n",
              "   (dropout2): Dropout(p=0.5, inplace=False)\n",
              "   (maxpool): MaxPool2d(kernel_size=1, stride=(1, 1), padding=0, dilation=1, ceil_mode=False)\n",
              "   (flatten): Flatten(start_dim=1, end_dim=-1)\n",
              "   (lin1): Linear(in_features=451584, out_features=64, bias=True)\n",
              "   (lin2): Linear(in_features=64, out_features=7, bias=True)\n",
              "   (softmax): Softmax(dim=1)\n",
              " ))"
            ]
          },
          "metadata": {},
          "execution_count": 21
        }
      ],
      "source": [
        "hyperparam_random_search()"
      ]
    }
  ],
  "metadata": {
    "colab": {
      "collapsed_sections": [],
      "name": "Facial Recognition_Hyperparameter Search",
      "provenance": [],
      "include_colab_link": true
    },
    "kernelspec": {
      "display_name": "Python 3",
      "name": "python3"
    },
    "language_info": {
      "name": "python"
    }
  },
  "nbformat": 4,
  "nbformat_minor": 0
}